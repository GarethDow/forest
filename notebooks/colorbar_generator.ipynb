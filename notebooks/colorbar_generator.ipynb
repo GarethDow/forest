{
 "cells": [
  {
   "cell_type": "code",
   "execution_count": 1,
   "metadata": {},
   "outputs": [],
   "source": [
    "import numpy as np\n",
    "\n",
    "import forest"
   ]
  },
  {
   "cell_type": "code",
   "execution_count": 10,
   "metadata": {},
   "outputs": [
    {
     "data": {
      "text/plain": [
       "['get_air_pressure_colours',\n",
       " 'get_air_temp_colours',\n",
       " 'get_cloud_colours',\n",
       " 'get_radar_colours',\n",
       " 'get_wind_colours']"
      ]
     },
     "execution_count": 10,
     "metadata": {},
     "output_type": "execute_result"
    }
   ],
   "source": [
    "[func_name for func_name in dir(forest.util) if 'colours' in func_name]"
   ]
  },
  {
   "cell_type": "code",
   "execution_count": 11,
   "metadata": {},
   "outputs": [],
   "source": [
    "color_dict = forest.util.get_air_temp_colours()"
   ]
  },
  {
   "cell_type": "code",
   "execution_count": 12,
   "metadata": {
    "collapsed": true
   },
   "outputs": [],
   "source": [
    "def get_colorbar_from_figure(fig):\n",
    "    \n",
    "    \"\"\"Create and save a colorbar.\n",
    "    \n",
    "    \"\"\"\n",
    "     \n",
    "    dummy_array = np.arange(3)\n",
    "    dummy_grid_1, dummy_grid_2 = np.meshgrid(dummy_array, dummy_array)\n",
    "    plot = plt.pcolormesh(dummy_grid_1, cmap=color_dict['cmap'], norm=color_dict['norm'])\n",
    "    fig.gca().set_visible(False) \n",
    "    cax=plt.axes([0.1, 0.3, 0.8, 0.6])\n",
    "    cbar = fig.colorbar(plot, cax=cax, orientation='horizontal')"
   ]
  },
  {
   "cell_type": "code",
   "execution_count": 13,
   "metadata": {},
   "outputs": [],
   "source": [
    "import matplotlib.pyplot as plt\n",
    "\n",
    "fig = plt.figure(figsize = (8, 1))\n",
    "get_colorbar_from_figure(fig)"
   ]
  },
  {
   "cell_type": "code",
   "execution_count": 14,
   "metadata": {},
   "outputs": [],
   "source": [
    "plt.savefig('te_colorbar.png')"
   ]
  },
  {
   "cell_type": "code",
   "execution_count": null,
   "metadata": {
    "collapsed": true
   },
   "outputs": [],
   "source": []
  }
 ],
 "metadata": {
  "kernelspec": {
   "display_name": "Python 3",
   "language": "python",
   "name": "python3"
  },
  "language_info": {
   "codemirror_mode": {
    "name": "ipython",
    "version": 3
   },
   "file_extension": ".py",
   "mimetype": "text/x-python",
   "name": "python",
   "nbconvert_exporter": "python",
   "pygments_lexer": "ipython3",
   "version": "3.6.2"
  }
 },
 "nbformat": 4,
 "nbformat_minor": 2
}
